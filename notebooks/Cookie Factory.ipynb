{
 "cells": [
  {
   "cell_type": "code",
   "execution_count": 1,
   "id": "bulgarian-paintball",
   "metadata": {},
   "outputs": [
    {
     "name": "stderr",
     "output_type": "stream",
     "text": [
      "* Owlready2 * Warning: optimized Cython parser module 'owlready2_optimized' is not available, defaulting to slower Python implementation\n"
     ]
    }
   ],
   "source": [
    "import sys\n",
    "sys.path.append('../src/')\n",
    "\n",
    "import owlready2 as owl\n",
    "from cookie_factory import *\n",
    "import cc"
   ]
  },
  {
   "cell_type": "markdown",
   "id": "curious-humanitarian",
   "metadata": {},
   "source": [
    "##### Cookie Factory Graph"
   ]
  },
  {
   "cell_type": "code",
   "execution_count": 2,
   "id": "micro-amateur",
   "metadata": {},
   "outputs": [],
   "source": [
    "# Cookie Factory Layout\n",
    "dough_cutter = CookieDoughCutter('cutter_1')\n",
    "\n",
    "size_inspector = CookieInspector('size_inspector_1')\n",
    "size_inspector.has_sensor.append(SizeSensor('size_sensor_1', \n",
    "                alert_on_value_greater_then=8))\n",
    "\n",
    "oven = Oven('oven_1')\n",
    "bake_inspector = CookieInspector('bake_inspector_1')\n",
    "bake_inspector.has_sensor.append(BurnedSensor('burned_sensor_1', \n",
    "                alert_on_value_greater_then=0))\n",
    "\n",
    "# The procedure\n",
    "start = dough_cutter\n",
    "\n",
    "dough_cutter.next_step.append(size_inspector)\n",
    "size_inspector.next_step.append(oven)\n",
    "oven.next_step.append(bake_inspector)"
   ]
  },
  {
   "cell_type": "code",
   "execution_count": null,
   "id": "bound-scenario",
   "metadata": {
    "scrolled": false
   },
   "outputs": [
    {
     "name": "stdout",
     "output_type": "stream",
     "text": [
      "--------------------\n",
      "Alert was raised!\n",
      "The last cookie has size: 6 and is burned: True\n",
      "The alerts are:  ['burned_sensor_1_alert']\n",
      "\n",
      "===== Start of the interaction =====\n",
      "CC: Is the malfunctioned component one of the following?\n",
      "(Type an index of the choice or leave blank)\n",
      "\t0) oven_1\n",
      "\t1) size_inspector_1\n",
      "\t2) cutter_1\n",
      "0\n",
      "\n",
      "CC: What is the malfunction?\n",
      "oven overheated\n",
      "\n",
      "--------------------\n",
      "Alert was raised!\n",
      "The last cookie has size: 10 and is burned: None\n",
      "The alerts are:  ['size_sensor_1_alert']\n",
      "\n",
      "===== Start of the interaction =====\n",
      "CC: Is the malfunctioned component one of the following?\n",
      "(Type an index of the choice or leave blank)\n",
      "\t0) cutter_1\n",
      "0\n",
      "\n",
      "CC: What is the malfunction?\n",
      "cutted piece is too big\n",
      "\n",
      "--------------------\n",
      "Alert was raised!\n",
      "The last cookie has size: 10 and is burned: None\n",
      "The alerts are:  ['size_sensor_1_alert']\n",
      "\n",
      "===== Start of the interaction =====\n",
      "CC: Is the malfunction one of the following?\n",
      "(Type an index of the choice or leave blank)\n",
      "\t0) cutter_1/cutted piece is too big\n",
      "0\n",
      "\n",
      "--------------------\n",
      "Alert was raised!\n",
      "The last cookie has size: 5 and is burned: True\n",
      "The alerts are:  ['burned_sensor_1_alert']\n",
      "\n",
      "===== Start of the interaction =====\n",
      "CC: Is the malfunction one of the following?\n",
      "(Type an index of the choice or leave blank)\n",
      "\t0) oven_1/oven overheated\n"
     ]
    }
   ],
   "source": [
    "def factory_ok():\n",
    "    return len(onto.search(type=onto.Alert)) == 0\n",
    "\n",
    "while True:\n",
    "    while factory_ok():\n",
    "        component = start\n",
    "        cookie = component()\n",
    "        while factory_ok() and len(component.next_step) > 0:\n",
    "            component = component.next_step[0]\n",
    "            component(cookie)\n",
    "   \n",
    "    # create snapshot\n",
    "    graph = owl.default_world.as_rdflib_graph()\n",
    "    \n",
    "    print('-' * 20)\n",
    "    print(\"Alert was raised!\")\n",
    "    print(\"The last cookie has size: %d and is burned: %s\" % \n",
    "         (cookie.size, cookie.burned))\n",
    "    print(\"The alerts are: \",[x.get_name() for x in\n",
    "                             onto.search(type=onto.Alert)])\n",
    "    print()\n",
    "    \n",
    "    # wake Curious Cat\n",
    "    cc.CC_find_malfunction(onto, graph)\n",
    "\n",
    "    # remove alerts\n",
    "    for alert in onto.search(type=onto.Alert):\n",
    "        owl.destroy_entity(alert)"
   ]
  },
  {
   "cell_type": "code",
   "execution_count": null,
   "id": "rational-wisdom",
   "metadata": {},
   "outputs": [],
   "source": []
  }
 ],
 "metadata": {
  "kernelspec": {
   "display_name": "Python 3",
   "language": "python",
   "name": "python3"
  },
  "language_info": {
   "codemirror_mode": {
    "name": "ipython",
    "version": 3
   },
   "file_extension": ".py",
   "mimetype": "text/x-python",
   "name": "python",
   "nbconvert_exporter": "python",
   "pygments_lexer": "ipython3",
   "version": "3.6.9"
  }
 },
 "nbformat": 4,
 "nbformat_minor": 5
}
